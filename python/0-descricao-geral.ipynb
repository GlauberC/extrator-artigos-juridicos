{
 "cells": [
  {
   "cell_type": "markdown",
   "metadata": {},
   "source": [
    "# Introdução:"
   ]
  },
  {
   "cell_type": "markdown",
   "metadata": {},
   "source": [
    "Documentos jurídicos podem abranger diversos temas distintos como trabalho, família, educação, entre outros. Assim se torna um grande desafio gerênciar cada lei, pois essas apresentam inúmeros parágrafos contendo vários artigos. Logo, se faz necessário o uso da tecnologia para auxiliar o usuário a descobrir quais são os artigos mais usados baseado em cada assunto. Esse programa visa a extração desses artigos a partir de um base de dados para, posteriormente, servir de entrada para um modelo de machine learning. \n",
    " "
   ]
  },
  {
   "cell_type": "markdown",
   "metadata": {},
   "source": [
    "# Público alvo:"
   ]
  },
  {
   "cell_type": "markdown",
   "metadata": {},
   "source": [
    "Esse programa é capaz de ajudar tanto profissionais como estudantes da área do direito"
   ]
  },
  {
   "cell_type": "markdown",
   "metadata": {},
   "source": [
    "# Objetivos Gerais:"
   ]
  },
  {
   "cell_type": "markdown",
   "metadata": {},
   "source": [
    "* Auxiliar o usuário a descobrir os artigos mais usados para um determinado tema"
   ]
  },
  {
   "cell_type": "markdown",
   "metadata": {},
   "source": [
    "# Prováveis etapas:"
   ]
  },
  {
   "cell_type": "markdown",
   "metadata": {},
   "source": [
    "#### 1. Extração de artigos\n",
    "    Art. x §Y documento Z\n",
    "        ex: art. 157 § 2 Código penal\n",
    "        \n",
    "#### 2. Vetorização de cada artigo\n",
    "    indice | art. X | art. Y | art. Z ...\n",
    "#### 3. Classificar cada dado como:\n",
    "    0 (artigo não presente nesse documento)\n",
    "    1 (artigo presente nesse documento)\n",
    "#### 4. Recomendação\n",
    "    Informar ao usuário alguns artigos baseado no tema informado"
   ]
  },
  {
   "cell_type": "code",
   "execution_count": null,
   "metadata": {},
   "outputs": [],
   "source": []
  }
 ],
 "metadata": {
  "kernelspec": {
   "display_name": "Python 3",
   "language": "python",
   "name": "python3"
  },
  "language_info": {
   "codemirror_mode": {
    "name": "ipython",
    "version": 3
   },
   "file_extension": ".py",
   "mimetype": "text/x-python",
   "name": "python",
   "nbconvert_exporter": "python",
   "pygments_lexer": "ipython3",
   "version": "3.7.1"
  }
 },
 "nbformat": 4,
 "nbformat_minor": 2
}

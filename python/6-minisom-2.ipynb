{
 "cells": [
  {
   "cell_type": "code",
   "execution_count": 1,
   "metadata": {},
   "outputs": [],
   "source": [
    "import pandas as pd\n",
    "import numpy as np\n",
    "import matplotlib.pyplot as plt\n",
    "\n",
    "\n",
    "import os\n",
    "import tarfile\n",
    "from six.moves import urllib\n",
    "\n",
    "import pickle"
   ]
  },
  {
   "cell_type": "code",
   "execution_count": null,
   "metadata": {},
   "outputs": [],
   "source": []
  },
  {
   "cell_type": "code",
   "execution_count": 2,
   "metadata": {},
   "outputs": [],
   "source": [
    "#!pip install minisom"
   ]
  },
  {
   "cell_type": "code",
   "execution_count": 3,
   "metadata": {},
   "outputs": [],
   "source": [
    "dataset = pd.read_csv('data/palavras-selecionadas.csv', index_col=0 )\n"
   ]
  },
  {
   "cell_type": "code",
   "execution_count": 4,
   "metadata": {},
   "outputs": [
    {
     "data": {
      "text/html": [
       "<div>\n",
       "<style scoped>\n",
       "    .dataframe tbody tr th:only-of-type {\n",
       "        vertical-align: middle;\n",
       "    }\n",
       "\n",
       "    .dataframe tbody tr th {\n",
       "        vertical-align: top;\n",
       "    }\n",
       "\n",
       "    .dataframe thead th {\n",
       "        text-align: right;\n",
       "    }\n",
       "</style>\n",
       "<table border=\"1\" class=\"dataframe\">\n",
       "  <thead>\n",
       "    <tr style=\"text-align: right;\">\n",
       "      <th></th>\n",
       "      <th>absolvicao</th>\n",
       "      <th>administracao</th>\n",
       "      <th>anulacao</th>\n",
       "      <th>apreensao</th>\n",
       "      <th>associacao</th>\n",
       "      <th>aumento</th>\n",
       "      <th>autoral</th>\n",
       "      <th>banco</th>\n",
       "      <th>cargo</th>\n",
       "      <th>carreira</th>\n",
       "      <th>...</th>\n",
       "      <th>servico</th>\n",
       "      <th>servidor</th>\n",
       "      <th>social</th>\n",
       "      <th>taxa</th>\n",
       "      <th>trafico</th>\n",
       "      <th>tutela</th>\n",
       "      <th>veiculo</th>\n",
       "      <th>vicios</th>\n",
       "      <th>violacao</th>\n",
       "      <th>artigos</th>\n",
       "    </tr>\n",
       "  </thead>\n",
       "  <tbody>\n",
       "    <tr>\n",
       "      <th>0</th>\n",
       "      <td>0.0</td>\n",
       "      <td>0.0</td>\n",
       "      <td>0.0</td>\n",
       "      <td>0.0</td>\n",
       "      <td>0.0</td>\n",
       "      <td>0.0</td>\n",
       "      <td>0.0</td>\n",
       "      <td>0.0</td>\n",
       "      <td>0.0</td>\n",
       "      <td>0.0</td>\n",
       "      <td>...</td>\n",
       "      <td>0.0</td>\n",
       "      <td>0.0</td>\n",
       "      <td>0.0</td>\n",
       "      <td>0.0</td>\n",
       "      <td>0.0</td>\n",
       "      <td>0.0</td>\n",
       "      <td>0.0</td>\n",
       "      <td>0.0</td>\n",
       "      <td>0.0</td>\n",
       "      <td>['art 1', 'art 487']</td>\n",
       "    </tr>\n",
       "    <tr>\n",
       "      <th>1</th>\n",
       "      <td>0.0</td>\n",
       "      <td>0.0</td>\n",
       "      <td>0.0</td>\n",
       "      <td>0.0</td>\n",
       "      <td>0.0</td>\n",
       "      <td>1.0</td>\n",
       "      <td>0.0</td>\n",
       "      <td>0.0</td>\n",
       "      <td>0.0</td>\n",
       "      <td>0.0</td>\n",
       "      <td>...</td>\n",
       "      <td>0.0</td>\n",
       "      <td>0.0</td>\n",
       "      <td>0.0</td>\n",
       "      <td>0.0</td>\n",
       "      <td>0.0</td>\n",
       "      <td>0.0</td>\n",
       "      <td>0.0</td>\n",
       "      <td>0.0</td>\n",
       "      <td>0.0</td>\n",
       "      <td>['art 157']</td>\n",
       "    </tr>\n",
       "    <tr>\n",
       "      <th>2</th>\n",
       "      <td>0.0</td>\n",
       "      <td>0.0</td>\n",
       "      <td>0.0</td>\n",
       "      <td>1.0</td>\n",
       "      <td>0.0</td>\n",
       "      <td>0.0</td>\n",
       "      <td>0.0</td>\n",
       "      <td>0.0</td>\n",
       "      <td>0.0</td>\n",
       "      <td>0.0</td>\n",
       "      <td>...</td>\n",
       "      <td>0.0</td>\n",
       "      <td>0.0</td>\n",
       "      <td>0.0</td>\n",
       "      <td>0.0</td>\n",
       "      <td>0.0</td>\n",
       "      <td>0.0</td>\n",
       "      <td>0.0</td>\n",
       "      <td>0.0</td>\n",
       "      <td>0.0</td>\n",
       "      <td>['art 3']</td>\n",
       "    </tr>\n",
       "    <tr>\n",
       "      <th>3</th>\n",
       "      <td>0.0</td>\n",
       "      <td>0.0</td>\n",
       "      <td>0.0</td>\n",
       "      <td>0.0</td>\n",
       "      <td>0.0</td>\n",
       "      <td>0.0</td>\n",
       "      <td>0.0</td>\n",
       "      <td>0.0</td>\n",
       "      <td>0.0</td>\n",
       "      <td>3.0</td>\n",
       "      <td>...</td>\n",
       "      <td>0.0</td>\n",
       "      <td>2.0</td>\n",
       "      <td>0.0</td>\n",
       "      <td>0.0</td>\n",
       "      <td>0.0</td>\n",
       "      <td>0.0</td>\n",
       "      <td>0.0</td>\n",
       "      <td>0.0</td>\n",
       "      <td>0.0</td>\n",
       "      <td>['art 942', 'art 85', 'art 98']</td>\n",
       "    </tr>\n",
       "    <tr>\n",
       "      <th>4</th>\n",
       "      <td>0.0</td>\n",
       "      <td>0.0</td>\n",
       "      <td>0.0</td>\n",
       "      <td>0.0</td>\n",
       "      <td>0.0</td>\n",
       "      <td>0.0</td>\n",
       "      <td>1.0</td>\n",
       "      <td>0.0</td>\n",
       "      <td>0.0</td>\n",
       "      <td>0.0</td>\n",
       "      <td>...</td>\n",
       "      <td>0.0</td>\n",
       "      <td>0.0</td>\n",
       "      <td>0.0</td>\n",
       "      <td>0.0</td>\n",
       "      <td>0.0</td>\n",
       "      <td>0.0</td>\n",
       "      <td>0.0</td>\n",
       "      <td>0.0</td>\n",
       "      <td>0.0</td>\n",
       "      <td>['art 487']</td>\n",
       "    </tr>\n",
       "  </tbody>\n",
       "</table>\n",
       "<p>5 rows × 61 columns</p>\n",
       "</div>"
      ],
      "text/plain": [
       "   absolvicao  administracao  anulacao  apreensao  associacao  aumento  \\\n",
       "0         0.0            0.0       0.0        0.0         0.0      0.0   \n",
       "1         0.0            0.0       0.0        0.0         0.0      1.0   \n",
       "2         0.0            0.0       0.0        1.0         0.0      0.0   \n",
       "3         0.0            0.0       0.0        0.0         0.0      0.0   \n",
       "4         0.0            0.0       0.0        0.0         0.0      0.0   \n",
       "\n",
       "   autoral  banco  cargo  carreira  ...  servico  servidor  social  taxa  \\\n",
       "0      0.0    0.0    0.0       0.0  ...      0.0       0.0     0.0   0.0   \n",
       "1      0.0    0.0    0.0       0.0  ...      0.0       0.0     0.0   0.0   \n",
       "2      0.0    0.0    0.0       0.0  ...      0.0       0.0     0.0   0.0   \n",
       "3      0.0    0.0    0.0       3.0  ...      0.0       2.0     0.0   0.0   \n",
       "4      1.0    0.0    0.0       0.0  ...      0.0       0.0     0.0   0.0   \n",
       "\n",
       "   trafico  tutela  veiculo  vicios  violacao                          artigos  \n",
       "0      0.0     0.0      0.0     0.0       0.0             ['art 1', 'art 487']  \n",
       "1      0.0     0.0      0.0     0.0       0.0                      ['art 157']  \n",
       "2      0.0     0.0      0.0     0.0       0.0                        ['art 3']  \n",
       "3      0.0     0.0      0.0     0.0       0.0  ['art 942', 'art 85', 'art 98']  \n",
       "4      0.0     0.0      0.0     0.0       0.0                      ['art 487']  \n",
       "\n",
       "[5 rows x 61 columns]"
      ]
     },
     "execution_count": 4,
     "metadata": {},
     "output_type": "execute_result"
    }
   ],
   "source": [
    "dataset.head()"
   ]
  },
  {
   "cell_type": "code",
   "execution_count": 5,
   "metadata": {},
   "outputs": [],
   "source": [
    "X = dataset.iloc[:, :-1].values\n"
   ]
  },
  {
   "cell_type": "code",
   "execution_count": 6,
   "metadata": {},
   "outputs": [
    {
     "data": {
      "text/plain": [
       "array([[0., 0., 0., ..., 0., 0., 0.],\n",
       "       [0., 0., 0., ..., 0., 0., 0.],\n",
       "       [0., 0., 0., ..., 0., 0., 0.],\n",
       "       ...,\n",
       "       [0., 0., 0., ..., 0., 2., 0.],\n",
       "       [0., 0., 0., ..., 0., 0., 0.],\n",
       "       [0., 0., 0., ..., 0., 0., 0.]])"
      ]
     },
     "execution_count": 6,
     "metadata": {},
     "output_type": "execute_result"
    }
   ],
   "source": [
    "X"
   ]
  },
  {
   "cell_type": "code",
   "execution_count": 7,
   "metadata": {},
   "outputs": [],
   "source": [
    "# Feature Scaling\n",
    "from sklearn.preprocessing import MinMaxScaler\n",
    "sc = MinMaxScaler(feature_range = (0, 1))\n",
    "X = sc.fit_transform(X)"
   ]
  },
  {
   "cell_type": "code",
   "execution_count": 8,
   "metadata": {},
   "outputs": [],
   "source": [
    "# Training the SOM\n",
    "from minisom import MiniSom\n",
    "som = MiniSom(x = 20, y = 20, input_len = dataset.shape[1]-1, sigma = 1.0, learning_rate = 0.5, random_seed = 4214)\n",
    "som.random_weights_init(X)\n",
    "som.train_random(data = X, num_iteration = 5000)"
   ]
  },
  {
   "cell_type": "code",
   "execution_count": 9,
   "metadata": {},
   "outputs": [],
   "source": [
    "def palavras_contidas(dado):\n",
    "    palavras = []\n",
    "    for i in range(len(dado.tolist()[:-1])):\n",
    "        if dado.tolist()[i] > 0:\n",
    "            palavras.append(dado.index[i])\n",
    "    return palavras\n",
    "\n",
    "def exibe_palavas(dado):\n",
    "    palavras = palavras_contidas(dado)\n",
    "    for palavra in palavras:\n",
    "        print(palavra)\n",
    "    print('\\nNúmero de palavras: {}'.format(len(palavras)))    \n",
    "    \n",
    "def acha_dado_com_palavra(palavra):\n",
    "    numero_documentos_com_essa_palavra = 0\n",
    "    lista = dataset[palavra].tolist()[:-1]\n",
    "    for i in range(len(lista)):\n",
    "        if lista[i] > 0:\n",
    "            numero_documentos_com_essa_palavra += 1\n",
    "            print(i)\n",
    "    print('\\nNúmero de documentos com essa palavra: {}'.format(numero_documentos_com_essa_palavra))\n",
    "    \n",
    "def palavras_em_comum(dado1, dado2):\n",
    "    conta_palavras = 0\n",
    "    palavras1 = palavras_contidas(dado1)\n",
    "    palavras2 = palavras_contidas(dado2)\n",
    "    for palavra in palavras1:\n",
    "        if palavra in palavras2:\n",
    "            print(palavra)\n",
    "            conta_palavras += 1\n",
    "    print('\\nNúmero de palavras: {}'.format(conta_palavras))   "
   ]
  },
  {
   "cell_type": "markdown",
   "metadata": {},
   "source": [
    "# Criação da matriz de posição de todos os elementos"
   ]
  },
  {
   "cell_type": "code",
   "execution_count": 10,
   "metadata": {},
   "outputs": [],
   "source": [
    "arrX = list()\n",
    "arrY = list()\n",
    "\n",
    "for i in dataset.values:\n",
    "    vencedor = som.winner(i[:-1])\n",
    "    arrX.append(vencedor[0])\n",
    "    arrY.append(vencedor[1])\n",
    "    \n",
    "    "
   ]
  },
  {
   "cell_type": "code",
   "execution_count": 11,
   "metadata": {},
   "outputs": [],
   "source": [
    "# dataset['posicaoX'] = arrX\n",
    "# dataset['posicaoY'] = arrY"
   ]
  },
  {
   "cell_type": "code",
   "execution_count": 29,
   "metadata": {},
   "outputs": [],
   "source": [
    "findX = 0\n",
    "findY = 0\n",
    "\n",
    "array_mesma_posicao = list()\n",
    "\n",
    "\n",
    "for i in range(len(dataset.values)):\n",
    "    if arrX[i] == findX and arrY[i] == findY:\n",
    "        array_mesma_posicao.append(i)"
   ]
  },
  {
   "cell_type": "code",
   "execution_count": 30,
   "metadata": {},
   "outputs": [
    {
     "data": {
      "text/plain": [
       "[446, 551, 867, 1017, 1320]"
      ]
     },
     "execution_count": 30,
     "metadata": {},
     "output_type": "execute_result"
    }
   ],
   "source": [
    "array_mesma_posicao"
   ]
  },
  {
   "cell_type": "code",
   "execution_count": 31,
   "metadata": {},
   "outputs": [
    {
     "name": "stdout",
     "output_type": "stream",
     "text": [
      "servico\n",
      "\n",
      "Número de palavras: 1\n"
     ]
    }
   ],
   "source": [
    "exibe_palavas(dataset.iloc[326])"
   ]
  },
  {
   "cell_type": "markdown",
   "metadata": {},
   "source": [
    "# Exibição das palavras do grupo"
   ]
  },
  {
   "cell_type": "code",
   "execution_count": 32,
   "metadata": {},
   "outputs": [
    {
     "name": "stdout",
     "output_type": "stream",
     "text": [
      "\n",
      "\n",
      "------ Dado: 446 ------\n",
      "absolvicao\n",
      "concurso\n",
      "crime\n",
      "flagrante\n",
      "policial\n",
      "prisao\n",
      "probatorio\n",
      "roubo\n",
      "\n",
      "Número de palavras: 8\n",
      "\n",
      "\n",
      "------ Dado: 551 ------\n",
      "constrangimento\n",
      "custodia\n",
      "flagrante\n",
      "habeas\n",
      "posse\n",
      "prisao\n",
      "trafico\n",
      "\n",
      "Número de palavras: 7\n",
      "\n",
      "\n",
      "------ Dado: 867 ------\n",
      "absolvicao\n",
      "apreensao\n",
      "flagrante\n",
      "policial\n",
      "posse\n",
      "prisao\n",
      "probatorio\n",
      "trafico\n",
      "\n",
      "Número de palavras: 8\n",
      "\n",
      "\n",
      "------ Dado: 1017 ------\n",
      "crime\n",
      "drogas\n",
      "flagrante\n",
      "habeas\n",
      "militar\n",
      "policial\n",
      "prisao\n",
      "probatorio\n",
      "trafico\n",
      "\n",
      "Número de palavras: 9\n",
      "\n",
      "\n",
      "------ Dado: 1320 ------\n",
      "constrangimento\n",
      "crime\n",
      "custodia\n",
      "flagrante\n",
      "habeas\n",
      "prisao\n",
      "roubo\n",
      "\n",
      "Número de palavras: 7\n"
     ]
    }
   ],
   "source": [
    "for i in array_mesma_posicao:\n",
    "    print(\"\\n\\n------ Dado: {} ------\".format(i))\n",
    "    exibe_palavas(dataset.iloc[i])"
   ]
  },
  {
   "cell_type": "markdown",
   "metadata": {},
   "source": [
    "# Artigos do Grupo"
   ]
  },
  {
   "cell_type": "code",
   "execution_count": 16,
   "metadata": {},
   "outputs": [
    {
     "name": "stdout",
     "output_type": "stream",
     "text": [
      "['art 37']\n",
      "['art 5']\n",
      "['art 37']\n"
     ]
    }
   ],
   "source": [
    "for i in array_mesma_posicao:\n",
    "    print(dataset.iloc[i][-1])"
   ]
  },
  {
   "cell_type": "code",
   "execution_count": null,
   "metadata": {},
   "outputs": [],
   "source": []
  },
  {
   "cell_type": "markdown",
   "metadata": {},
   "source": [
    "# Contar artigos"
   ]
  },
  {
   "cell_type": "code",
   "execution_count": 17,
   "metadata": {},
   "outputs": [],
   "source": [
    "lista_artigos = list()\n",
    "conta_artigos = {}\n",
    "for i in array_mesma_posicao:\n",
    "    # transformar string em lista     \n",
    "    art_string = dataset.iloc[i][-1]\n",
    "    art_string = art_string.replace('[', '').replace(']', '').replace(\"'\", '')\n",
    "    art_list = art_string.split(',')\n",
    "    \n",
    "    for art in art_list:\n",
    "        art = art.strip()\n",
    "        if art not in lista_artigos:\n",
    "            lista_artigos.append(art)\n",
    "            conta_artigos[art] = 1\n",
    "        else:\n",
    "            conta_artigos[art] += 1\n",
    "            \n",
    "        "
   ]
  },
  {
   "cell_type": "code",
   "execution_count": 18,
   "metadata": {},
   "outputs": [
    {
     "data": {
      "text/plain": [
       "{'art 37': 2, 'art 5': 1}"
      ]
     },
     "execution_count": 18,
     "metadata": {},
     "output_type": "execute_result"
    }
   ],
   "source": [
    "conta_artigos"
   ]
  },
  {
   "cell_type": "markdown",
   "metadata": {},
   "source": [
    "# Criando o dataframe de avaliação"
   ]
  },
  {
   "cell_type": "code",
   "execution_count": 19,
   "metadata": {},
   "outputs": [],
   "source": [
    "df_avalia = pd.DataFrame(data = arrX, columns = [\"posX\"])\n",
    "df_avalia['posY'] = arrY\n",
    "df_avalia['artigos'] = dataset[['artigos']]"
   ]
  },
  {
   "cell_type": "code",
   "execution_count": 20,
   "metadata": {},
   "outputs": [
    {
     "data": {
      "text/html": [
       "<div>\n",
       "<style scoped>\n",
       "    .dataframe tbody tr th:only-of-type {\n",
       "        vertical-align: middle;\n",
       "    }\n",
       "\n",
       "    .dataframe tbody tr th {\n",
       "        vertical-align: top;\n",
       "    }\n",
       "\n",
       "    .dataframe thead th {\n",
       "        text-align: right;\n",
       "    }\n",
       "</style>\n",
       "<table border=\"1\" class=\"dataframe\">\n",
       "  <thead>\n",
       "    <tr style=\"text-align: right;\">\n",
       "      <th></th>\n",
       "      <th>posX</th>\n",
       "      <th>posY</th>\n",
       "      <th>artigos</th>\n",
       "    </tr>\n",
       "  </thead>\n",
       "  <tbody>\n",
       "    <tr>\n",
       "      <th>0</th>\n",
       "      <td>9</td>\n",
       "      <td>5</td>\n",
       "      <td>['art 1', 'art 487']</td>\n",
       "    </tr>\n",
       "    <tr>\n",
       "      <th>1</th>\n",
       "      <td>10</td>\n",
       "      <td>12</td>\n",
       "      <td>['art 157']</td>\n",
       "    </tr>\n",
       "    <tr>\n",
       "      <th>2</th>\n",
       "      <td>7</td>\n",
       "      <td>0</td>\n",
       "      <td>['art 3']</td>\n",
       "    </tr>\n",
       "    <tr>\n",
       "      <th>3</th>\n",
       "      <td>1</td>\n",
       "      <td>19</td>\n",
       "      <td>['art 942', 'art 85', 'art 98']</td>\n",
       "    </tr>\n",
       "    <tr>\n",
       "      <th>4</th>\n",
       "      <td>12</td>\n",
       "      <td>15</td>\n",
       "      <td>['art 487']</td>\n",
       "    </tr>\n",
       "  </tbody>\n",
       "</table>\n",
       "</div>"
      ],
      "text/plain": [
       "   posX  posY                          artigos\n",
       "0     9     5             ['art 1', 'art 487']\n",
       "1    10    12                      ['art 157']\n",
       "2     7     0                        ['art 3']\n",
       "3     1    19  ['art 942', 'art 85', 'art 98']\n",
       "4    12    15                      ['art 487']"
      ]
     },
     "execution_count": 20,
     "metadata": {},
     "output_type": "execute_result"
    }
   ],
   "source": [
    "df_avalia.head()\n"
   ]
  },
  {
   "cell_type": "markdown",
   "metadata": {},
   "source": [
    "# Função de encontrar dados na mesma posição"
   ]
  },
  {
   "cell_type": "code",
   "execution_count": 21,
   "metadata": {},
   "outputs": [],
   "source": [
    "def encontra_mesma_posicao(df_avalia, findX, findY):\n",
    "    array_mesma_posicao = list()\n",
    "    for i in range(len(df_avalia.values)):\n",
    "        if df_avalia.values[i][0] == findX and df_avalia.values[i][1] == findY:\n",
    "            array_mesma_posicao.append(i)\n",
    "    return array_mesma_posicao"
   ]
  },
  {
   "cell_type": "code",
   "execution_count": 22,
   "metadata": {},
   "outputs": [
    {
     "data": {
      "text/plain": [
       "[]"
      ]
     },
     "execution_count": 22,
     "metadata": {},
     "output_type": "execute_result"
    }
   ],
   "source": [
    "encontra_mesma_posicao(df_avalia, 3, 4)"
   ]
  },
  {
   "cell_type": "markdown",
   "metadata": {},
   "source": [
    "# Função de contar artigos"
   ]
  },
  {
   "cell_type": "code",
   "execution_count": null,
   "metadata": {},
   "outputs": [],
   "source": []
  },
  {
   "cell_type": "code",
   "execution_count": 23,
   "metadata": {},
   "outputs": [],
   "source": [
    "def conta_artigo(df_avalia, findX, findY):\n",
    "    lista_artigos = list()\n",
    "    conta_artigos = {}\n",
    "    for i in encontra_mesma_posicao(df_avalia, findX, findY):\n",
    "        # transformar string em lista     \n",
    "        art_string = df_avalia.iloc[i][-1]\n",
    "        art_string = art_string.replace('[', '').replace(']', '').replace(\"'\", '')\n",
    "        art_list = art_string.split(',')\n",
    "\n",
    "        for art in art_list:\n",
    "            art = art.strip()\n",
    "            if art not in lista_artigos:\n",
    "                lista_artigos.append(art)\n",
    "                conta_artigos[art] = 1\n",
    "            else:\n",
    "                conta_artigos[art] += 1\n",
    "    return conta_artigos"
   ]
  },
  {
   "cell_type": "markdown",
   "metadata": {},
   "source": [
    "# Função de transformação de palavras em vetor"
   ]
  },
  {
   "cell_type": "code",
   "execution_count": 24,
   "metadata": {},
   "outputs": [],
   "source": [
    "def vetorizar_palavras(lista_palavras):\n",
    "    array = 60 * [0]\n",
    "    for palavra in lista_palavras:\n",
    "        if palavra in list(dataset.columns):\n",
    "            posicao = list(dataset.columns).index(palavra)\n",
    "            array[posicao] += 1\n",
    "    return array"
   ]
  },
  {
   "cell_type": "markdown",
   "metadata": {},
   "source": [
    "# Exportando o modelo(não precisa)"
   ]
  },
  {
   "cell_type": "code",
   "execution_count": 25,
   "metadata": {},
   "outputs": [],
   "source": [
    "with open('model_minisom', 'wb') as f:\n",
    "    pickle.dump(som, f)"
   ]
  },
  {
   "cell_type": "markdown",
   "metadata": {},
   "source": [
    "# exemplo de importação (não precisa)"
   ]
  },
  {
   "cell_type": "code",
   "execution_count": 26,
   "metadata": {},
   "outputs": [],
   "source": [
    "with open('model_minisom', 'rb') as f:\n",
    "    model = pickle.load(f)"
   ]
  },
  {
   "cell_type": "code",
   "execution_count": 27,
   "metadata": {},
   "outputs": [
    {
     "data": {
      "text/plain": [
       "(7, 0)"
      ]
     },
     "execution_count": 27,
     "metadata": {},
     "output_type": "execute_result"
    }
   ],
   "source": [
    "model.winner(dataset.iloc[2].values[:-1])"
   ]
  },
  {
   "cell_type": "code",
   "execution_count": 28,
   "metadata": {},
   "outputs": [
    {
     "data": {
      "text/plain": [
       "minisom.MiniSom"
      ]
     },
     "execution_count": 28,
     "metadata": {},
     "output_type": "execute_result"
    }
   ],
   "source": [
    "type(model)"
   ]
  },
  {
   "cell_type": "code",
   "execution_count": 29,
   "metadata": {},
   "outputs": [],
   "source": [
    "df_avalia.to_csv('data/df_avalia.csv')"
   ]
  },
  {
   "cell_type": "markdown",
   "metadata": {},
   "source": [
    "# Flask"
   ]
  },
  {
   "cell_type": "code",
   "execution_count": 30,
   "metadata": {},
   "outputs": [],
   "source": [
    "from flask import Flask\n",
    "from flask import request\n",
    "from flask import jsonify\n",
    "from flask import Response\n",
    "from flask_cors import CORS "
   ]
  },
  {
   "cell_type": "code",
   "execution_count": 31,
   "metadata": {},
   "outputs": [],
   "source": [
    "# !pip3 install -U flask-cors"
   ]
  },
  {
   "cell_type": "code",
   "execution_count": 32,
   "metadata": {},
   "outputs": [
    {
     "name": "stdout",
     "output_type": "stream",
     "text": [
      " * Serving Flask app \"__main__\" (lazy loading)\n",
      " * Environment: production\n",
      "   WARNING: This is a development server. Do not use it in a production deployment.\n",
      "   Use a production WSGI server instead.\n",
      " * Debug mode: off\n"
     ]
    },
    {
     "name": "stderr",
     "output_type": "stream",
     "text": [
      " * Running on http://127.0.0.1:5000/ (Press CTRL+C to quit)\n"
     ]
    }
   ],
   "source": [
    "app = Flask(__name__)\n",
    "\n",
    "CORS(app)\n",
    "cors = CORS(app, resources={r\"/artigos/*\": {\"origins\": \"*\"}})\n",
    "\n",
    "@app.route('/artigos', methods=['POST'])\n",
    "def index():\n",
    "    palavras = request.json['palavras']\n",
    "    print(palavras)\n",
    "    array = vetorizar_palavras(palavras)\n",
    "    posicao = som.winner(array)\n",
    "    print(\"pX: {}\".format(posicao[0]))\n",
    "    print(\"pY: {}\".format(posicao[1]))\n",
    "    \n",
    "    artigos = conta_artigo(df_avalia, posicao[0], posicao[1])\n",
    "\n",
    "    # return jsonify(dictionary)\n",
    "    return jsonify(artigos)\n",
    "app.run()"
   ]
  },
  {
   "cell_type": "code",
   "execution_count": null,
   "metadata": {},
   "outputs": [],
   "source": []
  },
  {
   "cell_type": "code",
   "execution_count": null,
   "metadata": {},
   "outputs": [],
   "source": []
  },
  {
   "cell_type": "code",
   "execution_count": null,
   "metadata": {},
   "outputs": [],
   "source": []
  }
 ],
 "metadata": {
  "kernelspec": {
   "display_name": "Python 3",
   "language": "python",
   "name": "python3"
  },
  "language_info": {
   "codemirror_mode": {
    "name": "ipython",
    "version": 3
   },
   "file_extension": ".py",
   "mimetype": "text/x-python",
   "name": "python",
   "nbconvert_exporter": "python",
   "pygments_lexer": "ipython3",
   "version": "3.6.8"
  }
 },
 "nbformat": 4,
 "nbformat_minor": 2
}

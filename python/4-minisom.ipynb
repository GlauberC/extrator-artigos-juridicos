{
 "cells": [
  {
   "cell_type": "code",
   "execution_count": 2,
   "metadata": {},
   "outputs": [],
   "source": [
    "import pandas as pd\n",
    "import numpy as np\n",
    "import matplotlib.pyplot as plt\n",
    "\n",
    "\n",
    "import os\n",
    "import tarfile\n",
    "from six.moves import urllib"
   ]
  },
  {
   "cell_type": "code",
   "execution_count": 4,
   "metadata": {},
   "outputs": [],
   "source": [
    "#!pip install minisom"
   ]
  },
  {
   "cell_type": "code",
   "execution_count": 6,
   "metadata": {},
   "outputs": [],
   "source": [
    "dataset = pd.read_csv('data/palavras-pouco-frequentes-apl-3orgao.csv', index_col=0 )\n"
   ]
  },
  {
   "cell_type": "code",
   "execution_count": 7,
   "metadata": {},
   "outputs": [
    {
     "data": {
      "text/html": [
       "<div>\n",
       "<style scoped>\n",
       "    .dataframe tbody tr th:only-of-type {\n",
       "        vertical-align: middle;\n",
       "    }\n",
       "\n",
       "    .dataframe tbody tr th {\n",
       "        vertical-align: top;\n",
       "    }\n",
       "\n",
       "    .dataframe thead th {\n",
       "        text-align: right;\n",
       "    }\n",
       "</style>\n",
       "<table border=\"1\" class=\"dataframe\">\n",
       "  <thead>\n",
       "    <tr style=\"text-align: right;\">\n",
       "      <th></th>\n",
       "      <th>10o</th>\n",
       "      <th>11a</th>\n",
       "      <th>11o</th>\n",
       "      <th>13a</th>\n",
       "      <th>13o</th>\n",
       "      <th>14a</th>\n",
       "      <th>15a</th>\n",
       "      <th>1a</th>\n",
       "      <th>24a</th>\n",
       "      <th>3a</th>\n",
       "      <th>...</th>\n",
       "      <th>volum</th>\n",
       "      <th>volunt</th>\n",
       "      <th>vontad</th>\n",
       "      <th>vulner</th>\n",
       "      <th>xii</th>\n",
       "      <th>xv</th>\n",
       "      <th>xxi</th>\n",
       "      <th>xxii</th>\n",
       "      <th>xxxv</th>\n",
       "      <th>zer</th>\n",
       "    </tr>\n",
       "  </thead>\n",
       "  <tbody>\n",
       "    <tr>\n",
       "      <th>0</th>\n",
       "      <td>0.0</td>\n",
       "      <td>0.0</td>\n",
       "      <td>0.0</td>\n",
       "      <td>0.0</td>\n",
       "      <td>0.0</td>\n",
       "      <td>0.0</td>\n",
       "      <td>0.0</td>\n",
       "      <td>0.0</td>\n",
       "      <td>0.0</td>\n",
       "      <td>0.0</td>\n",
       "      <td>...</td>\n",
       "      <td>0.0</td>\n",
       "      <td>0.0</td>\n",
       "      <td>0.0</td>\n",
       "      <td>0.0</td>\n",
       "      <td>0.0</td>\n",
       "      <td>0.0</td>\n",
       "      <td>0.0</td>\n",
       "      <td>0.0</td>\n",
       "      <td>0.0</td>\n",
       "      <td>0.0</td>\n",
       "    </tr>\n",
       "    <tr>\n",
       "      <th>1</th>\n",
       "      <td>0.0</td>\n",
       "      <td>0.0</td>\n",
       "      <td>0.0</td>\n",
       "      <td>0.0</td>\n",
       "      <td>0.0</td>\n",
       "      <td>0.0</td>\n",
       "      <td>0.0</td>\n",
       "      <td>0.0</td>\n",
       "      <td>0.0</td>\n",
       "      <td>0.0</td>\n",
       "      <td>...</td>\n",
       "      <td>0.0</td>\n",
       "      <td>0.0</td>\n",
       "      <td>0.0</td>\n",
       "      <td>0.0</td>\n",
       "      <td>0.0</td>\n",
       "      <td>0.0</td>\n",
       "      <td>0.0</td>\n",
       "      <td>0.0</td>\n",
       "      <td>0.0</td>\n",
       "      <td>0.0</td>\n",
       "    </tr>\n",
       "    <tr>\n",
       "      <th>2</th>\n",
       "      <td>0.0</td>\n",
       "      <td>0.0</td>\n",
       "      <td>0.0</td>\n",
       "      <td>0.0</td>\n",
       "      <td>0.0</td>\n",
       "      <td>0.0</td>\n",
       "      <td>0.0</td>\n",
       "      <td>0.0</td>\n",
       "      <td>0.0</td>\n",
       "      <td>0.0</td>\n",
       "      <td>...</td>\n",
       "      <td>0.0</td>\n",
       "      <td>0.0</td>\n",
       "      <td>0.0</td>\n",
       "      <td>0.0</td>\n",
       "      <td>0.0</td>\n",
       "      <td>0.0</td>\n",
       "      <td>0.0</td>\n",
       "      <td>0.0</td>\n",
       "      <td>0.0</td>\n",
       "      <td>0.0</td>\n",
       "    </tr>\n",
       "    <tr>\n",
       "      <th>3</th>\n",
       "      <td>0.0</td>\n",
       "      <td>0.0</td>\n",
       "      <td>0.0</td>\n",
       "      <td>0.0</td>\n",
       "      <td>0.0</td>\n",
       "      <td>0.0</td>\n",
       "      <td>0.0</td>\n",
       "      <td>0.0</td>\n",
       "      <td>0.0</td>\n",
       "      <td>0.0</td>\n",
       "      <td>...</td>\n",
       "      <td>0.0</td>\n",
       "      <td>0.0</td>\n",
       "      <td>0.0</td>\n",
       "      <td>0.0</td>\n",
       "      <td>0.0</td>\n",
       "      <td>0.0</td>\n",
       "      <td>0.0</td>\n",
       "      <td>0.0</td>\n",
       "      <td>0.0</td>\n",
       "      <td>0.0</td>\n",
       "    </tr>\n",
       "    <tr>\n",
       "      <th>4</th>\n",
       "      <td>0.0</td>\n",
       "      <td>0.0</td>\n",
       "      <td>0.0</td>\n",
       "      <td>0.0</td>\n",
       "      <td>0.0</td>\n",
       "      <td>0.0</td>\n",
       "      <td>0.0</td>\n",
       "      <td>0.0</td>\n",
       "      <td>0.0</td>\n",
       "      <td>0.0</td>\n",
       "      <td>...</td>\n",
       "      <td>0.0</td>\n",
       "      <td>0.0</td>\n",
       "      <td>0.0</td>\n",
       "      <td>0.0</td>\n",
       "      <td>0.0</td>\n",
       "      <td>0.0</td>\n",
       "      <td>0.0</td>\n",
       "      <td>0.0</td>\n",
       "      <td>0.0</td>\n",
       "      <td>0.0</td>\n",
       "    </tr>\n",
       "  </tbody>\n",
       "</table>\n",
       "<p>5 rows × 2609 columns</p>\n",
       "</div>"
      ],
      "text/plain": [
       "   10o  11a  11o  13a  13o  14a  15a   1a  24a   3a ...   volum  volunt  \\\n",
       "0  0.0  0.0  0.0  0.0  0.0  0.0  0.0  0.0  0.0  0.0 ...     0.0     0.0   \n",
       "1  0.0  0.0  0.0  0.0  0.0  0.0  0.0  0.0  0.0  0.0 ...     0.0     0.0   \n",
       "2  0.0  0.0  0.0  0.0  0.0  0.0  0.0  0.0  0.0  0.0 ...     0.0     0.0   \n",
       "3  0.0  0.0  0.0  0.0  0.0  0.0  0.0  0.0  0.0  0.0 ...     0.0     0.0   \n",
       "4  0.0  0.0  0.0  0.0  0.0  0.0  0.0  0.0  0.0  0.0 ...     0.0     0.0   \n",
       "\n",
       "   vontad  vulner  xii   xv  xxi  xxii  xxxv  zer  \n",
       "0     0.0     0.0  0.0  0.0  0.0   0.0   0.0  0.0  \n",
       "1     0.0     0.0  0.0  0.0  0.0   0.0   0.0  0.0  \n",
       "2     0.0     0.0  0.0  0.0  0.0   0.0   0.0  0.0  \n",
       "3     0.0     0.0  0.0  0.0  0.0   0.0   0.0  0.0  \n",
       "4     0.0     0.0  0.0  0.0  0.0   0.0   0.0  0.0  \n",
       "\n",
       "[5 rows x 2609 columns]"
      ]
     },
     "execution_count": 7,
     "metadata": {},
     "output_type": "execute_result"
    }
   ],
   "source": [
    "dataset.head()"
   ]
  },
  {
   "cell_type": "code",
   "execution_count": 9,
   "metadata": {},
   "outputs": [],
   "source": [
    "X = dataset.iloc[:, :].values\n",
    "y = dataset.iloc[:, ].values"
   ]
  },
  {
   "cell_type": "code",
   "execution_count": 14,
   "metadata": {},
   "outputs": [],
   "source": [
    "# Feature Scaling\n",
    "from sklearn.preprocessing import MinMaxScaler\n",
    "sc = MinMaxScaler(feature_range = (0, 1))\n",
    "X = sc.fit_transform(X)"
   ]
  },
  {
   "cell_type": "code",
   "execution_count": 82,
   "metadata": {},
   "outputs": [],
   "source": [
    "# Training the SOM\n",
    "from minisom import MiniSom\n",
    "som = MiniSom(x = 15, y = 15, input_len = dataset.shape[1], sigma = 1.0, learning_rate = 0.5, random_seed = 4214)\n",
    "som.random_weights_init(X)\n",
    "som.train_random(data = X, num_iteration = 2500)"
   ]
  },
  {
   "cell_type": "code",
   "execution_count": 83,
   "metadata": {},
   "outputs": [
    {
     "name": "stdout",
     "output_type": "stream",
     "text": [
      "(14, 5)\n",
      "(14, 10)\n",
      "(14, 8)\n"
     ]
    }
   ],
   "source": [
    "# grupo: rio\n",
    "\n",
    "dado0 = dataset.iloc[6]   # circulo verde\n",
    "dado1 = dataset.iloc[34]  # circulo preto\n",
    "dado2 = dataset.iloc[206] # circulo vermelho\n",
    "\n",
    "test0 = som.winner(dado0.tolist())    \n",
    "test1 = som.winner(dado1.tolist())   \n",
    "test2 = som.winner(dado2.tolist()) \n",
    "\n",
    "print(test0)\n",
    "print(test1)\n",
    "print(test2)"
   ]
  },
  {
   "cell_type": "code",
   "execution_count": 84,
   "metadata": {},
   "outputs": [
    {
     "name": "stdout",
     "output_type": "stream",
     "text": [
      "(7, 5)\n",
      "(10, 8)\n",
      "(12, 12)\n"
     ]
    }
   ],
   "source": [
    "# grupo: indefer\n",
    "\n",
    "dado3 = dataset.iloc[69]  # circulo amarelo\n",
    "dado4 = dataset.iloc[79]  # circulo azul\n",
    "dado5 = dataset.iloc[190] # quadrado verde\n",
    "\n",
    "test3 = som.winner(dado3.tolist())    \n",
    "test4 = som.winner(dado4.tolist())   \n",
    "test5 = som.winner(dado5.tolist()) \n",
    "\n",
    "print(test3)\n",
    "print(test4)\n",
    "print(test5)"
   ]
  },
  {
   "cell_type": "code",
   "execution_count": 85,
   "metadata": {},
   "outputs": [
    {
     "name": "stdout",
     "output_type": "stream",
     "text": [
      "(14, 2)\n",
      "(10, 8)\n",
      "(1, 10)\n",
      "(14, 2)\n"
     ]
    }
   ],
   "source": [
    "# grupo: institu\n",
    "\n",
    "dado6 = dataset.iloc[4] # quadrado azul\n",
    "dado7 = dataset.iloc[79]  # quadrado vermelho\n",
    "dado8 = dataset.iloc[709] # quadrado amarelo\n",
    "dado9 = dataset.iloc[187] # quadrado preto\n",
    "\n",
    "test6 = som.winner(dado6.tolist())    \n",
    "test7 = som.winner(dado7.tolist())   \n",
    "test8 = som.winner(dado8.tolist()) \n",
    "test9 = som.winner(dado9.tolist()) \n",
    "\n",
    "print(test6) # igual a 9\n",
    "print(test7)\n",
    "print(test8)\n",
    "print(test9) # igual a 4"
   ]
  },
  {
   "cell_type": "code",
   "execution_count": 86,
   "metadata": {},
   "outputs": [
    {
     "data": {
      "image/png": "[encoded data removed]",
      "text/plain": [
       "<Figure size 1080x1080 with 2 Axes>"
      ]
     },
     "metadata": {
      "needs_background": "light"
     },
     "output_type": "display_data"
    }
   ],
   "source": [
    "# Visualizing the results\n",
    "from pylab import bone, pcolor, colorbar, plot, show\n",
    "plt.figure(figsize=(15,15))\n",
    "bone()\n",
    "pcolor(som.distance_map().T)\n",
    "colorbar()\n",
    "\n",
    "plot(test0[0] + 0.5, test0[1] +0.5, 'o', markeredgecolor='g', markersize = 10, markeredgewidth = 2)\n",
    "plot(test1[0] + 0.5, test1[1] +0.5, 'o', markeredgecolor='b', markersize = 10, markeredgewidth = 2)\n",
    "plot(test2[0] + 0.5, test2[1] +0.5, 'o', markeredgecolor='r', markersize = 10, markeredgewidth = 2)\n",
    "\n",
    "plot(test3[0] + 0.5, test3[1] +0.5, 'o', markeredgecolor='y', markersize = 10, markeredgewidth = 2)\n",
    "plot(test4[0] + 0.5, test4[1] +0.5, 'o', markeredgecolor='k', markersize = 10, markeredgewidth = 2)\n",
    "plot(test5[0] + 0.5, test5[1] +0.5, 's', markeredgecolor='g', markersize = 10, markeredgewidth = 2)\n",
    "\n",
    "plot(test6[0] + 0.5, test6[1] +0.5, 's', markeredgecolor='b', markersize = 10, markeredgewidth = 2)\n",
    "plot(test7[0] + 0.5, test7[1] +0.5, 's', markeredgecolor='r', markersize = 10, markeredgewidth = 2)\n",
    "plot(test8[0] + 0.5, test8[1] +0.5, 's', markeredgecolor='y', markersize = 10, markeredgewidth = 2)\n",
    "\n",
    "plot(test9[0] + 0.5, test9[1] +0.5, 's', markeredgecolor='k', markersize = 10, markeredgewidth = 2)\n",
    "\n",
    "\n",
    "show()\n"
   ]
  },
  {
   "cell_type": "code",
   "execution_count": 18,
   "metadata": {},
   "outputs": [],
   "source": [
    "def palavras_contidas(dado):\n",
    "    palavras = []\n",
    "    for i in range(len(dado.tolist())):\n",
    "        if dado.tolist()[i] > 0:\n",
    "            palavras.append(dado.index[i])\n",
    "    return palavras\n",
    "\n",
    "def exibe_palavas(dado):\n",
    "    palavras = palavras_contidas(dado)\n",
    "    for palavra in palavras:\n",
    "        print(palavra)\n",
    "    print('\\nNúmero de palavras: {}'.format(len(palavras)))    \n",
    "    \n",
    "def acha_dado_com_palavra(palavra):\n",
    "    numero_documentos_com_essa_palavra = 0\n",
    "    lista = dataset[palavra].tolist()\n",
    "    for i in range(len(lista)):\n",
    "        if lista[i] > 0:\n",
    "            numero_documentos_com_essa_palavra += 1\n",
    "            print(i)\n",
    "    print('\\nNúmero de documentos com essa palavra: {}'.format(numero_documentos_com_essa_palavra))\n",
    "    \n",
    "def palavras_em_comum(dado1, dado2):\n",
    "    conta_palavras = 0\n",
    "    palavras1 = palavras_contidas(dado1)\n",
    "    palavras2 = palavras_contidas(dado2)\n",
    "    for palavra in palavras1:\n",
    "        if palavra in palavras2:\n",
    "            print(palavra)\n",
    "            conta_palavras += 1\n",
    "    print('\\nNúmero de palavras: {}'.format(conta_palavras))   "
   ]
  },
  {
   "cell_type": "code",
   "execution_count": 32,
   "metadata": {},
   "outputs": [
    {
     "name": "stdout",
     "output_type": "stream",
     "text": [
      "human\n",
      "larg\n",
      "limitaco\n",
      "rio\n",
      "\n",
      "Número de palavras: 4\n"
     ]
    }
   ],
   "source": [
    "palavras_em_comum(dado7, dado1)"
   ]
  },
  {
   "cell_type": "code",
   "execution_count": 57,
   "metadata": {},
   "outputs": [
    {
     "name": "stdout",
     "output_type": "stream",
     "text": [
      "4\n",
      "74\n",
      "187\n",
      "219\n",
      "255\n",
      "383\n",
      "709\n",
      "727\n",
      "756\n",
      "815\n",
      "818\n",
      "895\n",
      "996\n",
      "1461\n",
      "1567\n",
      "1572\n",
      "\n",
      "Número de documentos com essa palavra: 16\n"
     ]
    }
   ],
   "source": [
    "acha_dado_com_palavra('institu')"
   ]
  },
  {
   "cell_type": "code",
   "execution_count": 61,
   "metadata": {},
   "outputs": [
    {
     "name": "stdout",
     "output_type": "stream",
     "text": [
      "beneficiari\n",
      "confianc\n",
      "disposica\n",
      "edica\n",
      "exceca\n",
      "exclu\n",
      "funca\n",
      "gap\n",
      "gratificaca\n",
      "gratificaco\n",
      "gratu\n",
      "institu\n",
      "penitenciari\n",
      "regim\n",
      "sid\n",
      "ter\n",
      "\n",
      "Número de palavras: 16\n"
     ]
    }
   ],
   "source": [
    "exibe_palavas(dataset.iloc[4])"
   ]
  },
  {
   "cell_type": "code",
   "execution_count": 62,
   "metadata": {},
   "outputs": [
    {
     "name": "stdout",
     "output_type": "stream",
     "text": [
      "acord\n",
      "aplic\n",
      "aspir\n",
      "assistenc\n",
      "atu\n",
      "atualizaca\n",
      "citr\n",
      "conced\n",
      "consonanc\n",
      "conveni\n",
      "criteri\n",
      "dispens\n",
      "empregatici\n",
      "extranumerari\n",
      "fac\n",
      "filh\n",
      "forc\n",
      "funcionari\n",
      "gratu\n",
      "iden\n",
      "institu\n",
      "institut\n",
      "ipas\n",
      "madur\n",
      "mai\n",
      "music\n",
      "nacion\n",
      "obit\n",
      "objetiv\n",
      "obst\n",
      "ocup\n",
      "ofert\n",
      "ofic\n",
      "pensa\n",
      "permanent\n",
      "petit\n",
      "pr\n",
      "prepar\n",
      "previdenc\n",
      "previdenciari\n",
      "priv\n",
      "recent\n",
      "regim\n",
      "restabelec\n",
      "sargent\n",
      "solt\n",
      "tacit\n",
      "unia\n",
      "vigent\n",
      "vincul\n",
      "\n",
      "Número de palavras: 50\n"
     ]
    }
   ],
   "source": [
    "exibe_palavas(dataset.iloc[74])"
   ]
  },
  {
   "cell_type": "code",
   "execution_count": 64,
   "metadata": {},
   "outputs": [
    {
     "name": "stdout",
     "output_type": "stream",
     "text": [
      "acerv\n",
      "actum\n",
      "aliment\n",
      "atualizaca\n",
      "beneficiari\n",
      "cancel\n",
      "carat\n",
      "cent\n",
      "co\n",
      "comprobatori\n",
      "consonanc\n",
      "constat\n",
      "contud\n",
      "correspond\n",
      "criteri\n",
      "depend\n",
      "dez\n",
      "divisa\n",
      "eman\n",
      "epoc\n",
      "estudantil\n",
      "existenc\n",
      "fac\n",
      "fatic\n",
      "graduaca\n",
      "institu\n",
      "instituica\n",
      "ja\n",
      "lanc\n",
      "mort\n",
      "obit\n",
      "objetiv\n",
      "observ\n",
      "ocasia\n",
      "pensa\n",
      "pr\n",
      "previdenc\n",
      "previdenciari\n",
      "quot\n",
      "recent\n",
      "regit\n",
      "restabelec\n",
      "san\n",
      "sustent\n",
      "tamb\n",
      "tempu\n",
      "vincul\n",
      "\n",
      "Número de palavras: 47\n"
     ]
    }
   ],
   "source": [
    "exibe_palavas(dataset.iloc[709])"
   ]
  },
  {
   "cell_type": "code",
   "execution_count": null,
   "metadata": {},
   "outputs": [],
   "source": []
  }
 ],
 "metadata": {
  "kernelspec": {
   "display_name": "Python 3",
   "language": "python",
   "name": "python3"
  },
  "language_info": {
   "codemirror_mode": {
    "name": "ipython",
    "version": 3
   },
   "file_extension": ".py",
   "mimetype": "text/x-python",
   "name": "python",
   "nbconvert_exporter": "python",
   "pygments_lexer": "ipython3",
   "version": "3.7.1"
  }
 },
 "nbformat": 4,
 "nbformat_minor": 2
}

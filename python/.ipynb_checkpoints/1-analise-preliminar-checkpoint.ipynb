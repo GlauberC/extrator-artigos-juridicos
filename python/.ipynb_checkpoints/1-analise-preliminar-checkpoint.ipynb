{
 "cells": [
  {
   "cell_type": "markdown",
   "metadata": {},
   "source": [
    "# Conhecendo os dados"
   ]
  },
  {
   "cell_type": "code",
   "execution_count": 109,
   "metadata": {},
   "outputs": [
    {
     "data": {
      "text/html": [
       "<div>\n",
       "<style scoped>\n",
       "    .dataframe tbody tr th:only-of-type {\n",
       "        vertical-align: middle;\n",
       "    }\n",
       "\n",
       "    .dataframe tbody tr th {\n",
       "        vertical-align: top;\n",
       "    }\n",
       "\n",
       "    .dataframe thead th {\n",
       "        text-align: right;\n",
       "    }\n",
       "</style>\n",
       "<table border=\"1\" class=\"dataframe\">\n",
       "  <thead>\n",
       "    <tr style=\"text-align: right;\">\n",
       "      <th></th>\n",
       "      <th>ementa_filepath</th>\n",
       "      <th>process_number</th>\n",
       "      <th>process_type</th>\n",
       "      <th>orgao_julgador</th>\n",
       "      <th>publish_date</th>\n",
       "      <th>judgment_date</th>\n",
       "      <th>judge_relator</th>\n",
       "      <th>ementa_text</th>\n",
       "      <th>decisions</th>\n",
       "      <th>decision_description</th>\n",
       "      <th>decision_text</th>\n",
       "      <th>decision_label</th>\n",
       "      <th>decision_unanimity_text</th>\n",
       "      <th>decision_unanimity</th>\n",
       "    </tr>\n",
       "  </thead>\n",
       "  <tbody>\n",
       "    <tr>\n",
       "      <th>0</th>\n",
       "      <td>tj-al-2019-04-07_20:10:27/ementas/2284.html</td>\n",
       "      <td>0703777-48.2017.8.02.0058</td>\n",
       "      <td>APL</td>\n",
       "      <td>3ª Câmara Cível</td>\n",
       "      <td>15/03/2019</td>\n",
       "      <td>28 de Fevereiro de 2019</td>\n",
       "      <td>Des. Celyrio Adamastor Tenório Accioly</td>\n",
       "      <td>DIREITO PROCESSUAL CIVIL E ADMINISTRATIVO. APE...</td>\n",
       "      <td>None</td>\n",
       "      <td>DIREITO PROCESSUAL CIVIL E ADMINISTRATIVO. APE...</td>\n",
       "      <td>RECURSO CONHECIDO E PROVIDO</td>\n",
       "      <td>yes</td>\n",
       "      <td>UNANIMIDADE</td>\n",
       "      <td>unanimity</td>\n",
       "    </tr>\n",
       "    <tr>\n",
       "      <th>1</th>\n",
       "      <td>tj-al-2019-04-07_20:10:27/ementas/4772.html</td>\n",
       "      <td>0000327-13.2014.8.02.0069</td>\n",
       "      <td>APL</td>\n",
       "      <td>Câmara Criminal</td>\n",
       "      <td>07/02/2019</td>\n",
       "      <td>6 de Fevereiro de 2019</td>\n",
       "      <td>Des. Washington Luiz D. Freitas</td>\n",
       "      <td>APELAÇÃO CRIMINAL. PENAL. PROCESSO PENAL. ROUB...</td>\n",
       "      <td>None</td>\n",
       "      <td>APELAÇÃO CRIMINAL. PENAL. PROCESSO PENAL. ROUB...</td>\n",
       "      <td>5 Recurso conhecido e parcialmente provido, r...</td>\n",
       "      <td>partial</td>\n",
       "      <td>Decisão unânime</td>\n",
       "      <td>unanimity</td>\n",
       "    </tr>\n",
       "    <tr>\n",
       "      <th>2</th>\n",
       "      <td>tj-al-2019-04-07_20:10:27/ementas/516.html</td>\n",
       "      <td>0067626-56.2010.8.02.0001</td>\n",
       "      <td>APL</td>\n",
       "      <td>2ª Câmara Cível</td>\n",
       "      <td>21/03/2019</td>\n",
       "      <td>20 de Março de 2019</td>\n",
       "      <td>Desa. Elisabeth Carvalho Nascimento</td>\n",
       "      <td>APELAÇÃO CÍVEL. AÇÃO DE BUSCA E APREENSÃO. ALI...</td>\n",
       "      <td>None</td>\n",
       "      <td>APELAÇÃO CÍVEL. AÇÃO DE BUSCA E APREENSÃO. ALI...</td>\n",
       "      <td>RECURSO CONHECIDO E PROVIDO</td>\n",
       "      <td>yes</td>\n",
       "      <td>DECISÃO UNÂNIME</td>\n",
       "      <td>unanimity</td>\n",
       "    </tr>\n",
       "    <tr>\n",
       "      <th>3</th>\n",
       "      <td>tj-al-2019-04-07_20:10:27/ementas/7531.html</td>\n",
       "      <td>0700041-80.2014.8.02.0202</td>\n",
       "      <td>APL</td>\n",
       "      <td>3ª Câmara Cível</td>\n",
       "      <td>13/03/2019</td>\n",
       "      <td>14 de Fevereiro de 2019</td>\n",
       "      <td>Des. Celyrio Adamastor Tenório Accioly</td>\n",
       "      <td>APELAÇÃO CÍVEL. AÇÃO DE INDENIZAÇÃO POR DANOS ...</td>\n",
       "      <td>None</td>\n",
       "      <td>APELAÇÃO CÍVEL. AÇÃO DE INDENIZAÇÃO POR DANOS ...</td>\n",
       "      <td>RECURSO CONHECIDO E PROVIDO EM PARTE</td>\n",
       "      <td>partial</td>\n",
       "      <td>-2</td>\n",
       "      <td>-2</td>\n",
       "    </tr>\n",
       "    <tr>\n",
       "      <th>4</th>\n",
       "      <td>tj-al-2019-04-07_20:10:27/ementas/340.html</td>\n",
       "      <td>0721846-42.2016.8.02.0001</td>\n",
       "      <td>APL</td>\n",
       "      <td>1ª Câmara Cível</td>\n",
       "      <td>06/02/2019</td>\n",
       "      <td>6 de Fevereiro de 2019</td>\n",
       "      <td>Des. Fábio José Bittencourt Araújo</td>\n",
       "      <td>DIREITO ADMINISTRATIVO. URV. APELAÇÃO CÍVEL EM...</td>\n",
       "      <td>None</td>\n",
       "      <td>DIREITO ADMINISTRATIVO. URV. APELAÇÃO CÍVEL EM...</td>\n",
       "      <td>RECURSO CONHECIDO E NÃO PROVIDO</td>\n",
       "      <td>no</td>\n",
       "      <td>DECISÃO UNÂNIME</td>\n",
       "      <td>unanimity</td>\n",
       "    </tr>\n",
       "  </tbody>\n",
       "</table>\n",
       "</div>"
      ],
      "text/plain": [
       "                               ementa_filepath             process_number  \\\n",
       "0  tj-al-2019-04-07_20:10:27/ementas/2284.html  0703777-48.2017.8.02.0058   \n",
       "1  tj-al-2019-04-07_20:10:27/ementas/4772.html  0000327-13.2014.8.02.0069   \n",
       "2   tj-al-2019-04-07_20:10:27/ementas/516.html  0067626-56.2010.8.02.0001   \n",
       "3  tj-al-2019-04-07_20:10:27/ementas/7531.html  0700041-80.2014.8.02.0202   \n",
       "4   tj-al-2019-04-07_20:10:27/ementas/340.html  0721846-42.2016.8.02.0001   \n",
       "\n",
       "  process_type   orgao_julgador publish_date            judgment_date  \\\n",
       "0          APL  3ª Câmara Cível   15/03/2019  28 de Fevereiro de 2019   \n",
       "1          APL  Câmara Criminal   07/02/2019   6 de Fevereiro de 2019   \n",
       "2          APL  2ª Câmara Cível   21/03/2019      20 de Março de 2019   \n",
       "3          APL  3ª Câmara Cível   13/03/2019  14 de Fevereiro de 2019   \n",
       "4          APL  1ª Câmara Cível   06/02/2019   6 de Fevereiro de 2019   \n",
       "\n",
       "                            judge_relator  \\\n",
       "0  Des. Celyrio Adamastor Tenório Accioly   \n",
       "1         Des. Washington Luiz D. Freitas   \n",
       "2     Desa. Elisabeth Carvalho Nascimento   \n",
       "3  Des. Celyrio Adamastor Tenório Accioly   \n",
       "4      Des. Fábio José Bittencourt Araújo   \n",
       "\n",
       "                                         ementa_text decisions  \\\n",
       "0  DIREITO PROCESSUAL CIVIL E ADMINISTRATIVO. APE...      None   \n",
       "1  APELAÇÃO CRIMINAL. PENAL. PROCESSO PENAL. ROUB...      None   \n",
       "2  APELAÇÃO CÍVEL. AÇÃO DE BUSCA E APREENSÃO. ALI...      None   \n",
       "3  APELAÇÃO CÍVEL. AÇÃO DE INDENIZAÇÃO POR DANOS ...      None   \n",
       "4  DIREITO ADMINISTRATIVO. URV. APELAÇÃO CÍVEL EM...      None   \n",
       "\n",
       "                                decision_description  \\\n",
       "0  DIREITO PROCESSUAL CIVIL E ADMINISTRATIVO. APE...   \n",
       "1  APELAÇÃO CRIMINAL. PENAL. PROCESSO PENAL. ROUB...   \n",
       "2  APELAÇÃO CÍVEL. AÇÃO DE BUSCA E APREENSÃO. ALI...   \n",
       "3  APELAÇÃO CÍVEL. AÇÃO DE INDENIZAÇÃO POR DANOS ...   \n",
       "4  DIREITO ADMINISTRATIVO. URV. APELAÇÃO CÍVEL EM...   \n",
       "\n",
       "                                       decision_text decision_label  \\\n",
       "0                        RECURSO CONHECIDO E PROVIDO            yes   \n",
       "1   5 Recurso conhecido e parcialmente provido, r...        partial   \n",
       "2                        RECURSO CONHECIDO E PROVIDO            yes   \n",
       "3               RECURSO CONHECIDO E PROVIDO EM PARTE        partial   \n",
       "4                    RECURSO CONHECIDO E NÃO PROVIDO             no   \n",
       "\n",
       "  decision_unanimity_text decision_unanimity  \n",
       "0             UNANIMIDADE          unanimity  \n",
       "1         Decisão unânime          unanimity  \n",
       "2         DECISÃO UNÂNIME          unanimity  \n",
       "3                      -2                 -2  \n",
       "4         DECISÃO UNÂNIME          unanimity  "
      ]
     },
     "execution_count": 109,
     "metadata": {},
     "output_type": "execute_result"
    }
   ],
   "source": [
    "import pandas as pd\n",
    "import numpy as np \n",
    "# Loading the labeled decisions\n",
    "FILE_DECISION_CSV = \"data/2019-04-07_20h10m27s-decisions-no-repetitions.csv\"\n",
    "data = pd.read_csv( FILE_DECISION_CSV, sep='<=>',header=0,engine='python')\n",
    "data.head()"
   ]
  },
  {
   "cell_type": "code",
   "execution_count": 110,
   "metadata": {},
   "outputs": [
    {
     "name": "stdout",
     "output_type": "stream",
     "text": [
      "ementa_text:\n",
      "direito processual civil e administrativo. apelação cível. ação ordinária. militar. alegação de nulidade do ato administrativo de classificação do apelado no curso de formação complementar de praças (cfcp/2011 - turma c). impossibilidade. prazo prescricional quinquenal. prescrição do fundo do direito configurada. aplicação do art. 1º, do decreto n.º 20.910/32. prejudicial de mérito acolhida. sentença reformada, para fins de reconhecer a prescrição da pretensão requestada na exordial. extinção do feito com resolução do mérito, nos moldes do art. 487, inciso ii, do código de processo civil. inversão do ônus da sucumbência. recurso conhecido e provido. unanimidade.\n",
      "\n",
      "\n",
      "decision_description:\n",
      "direito processual civil e administrativo. apelação cível. ação ordinária. militar. alegação de nulidade do ato administrativo de classificação do apelado no curso de formação complementar de praças (cfcp/2011 - turma c). impossibilidade. prazo prescricional quinquenal. prescrição do fundo do direito configurada. aplicação do artigo 1, do decreto numero 20910/32. prejudicial de mérito acolhida. sentença reformada, para fins de reconhecer a prescrição da pretensão requestada na exordial. extinção do feito com resolução do mérito, nos moldes do artigo 487, inciso ii, do código de processo civil. inversão do ônus da sucumbência.\n"
     ]
    }
   ],
   "source": [
    "pos = 0\n",
    "print('ementa_text:')\n",
    "print(data['ementa_text'][pos].lower())\n",
    "print('\\n\\ndecision_description:')\n",
    "print(data['decision_description'][pos].lower())"
   ]
  },
  {
   "cell_type": "markdown",
   "metadata": {},
   "source": [
    "### Vou trabalhar com o ementa_text"
   ]
  },
  {
   "cell_type": "markdown",
   "metadata": {},
   "source": [
    "# Tratamento preliminar"
   ]
  },
  {
   "cell_type": "markdown",
   "metadata": {},
   "source": [
    "## importando bibliotecas"
   ]
  },
  {
   "cell_type": "code",
   "execution_count": 111,
   "metadata": {},
   "outputs": [],
   "source": [
    "import re"
   ]
  },
  {
   "cell_type": "markdown",
   "metadata": {},
   "source": [
    "## Achar apenas o \"art. digito\""
   ]
  },
  {
   "cell_type": "code",
   "execution_count": 169,
   "metadata": {},
   "outputs": [],
   "source": [
    "def extrai_art_numero(df):\n",
    "    \"\"\"\n",
    "    Gera um dicionário contendo os artigos presentes naquele documento jurídico. \n",
    "    \n",
    "    DataFrame -> Dictionary\n",
    "    \"\"\"\n",
    "    dicionario = {}\n",
    "    for i in range(df.shape[0]):\n",
    "        if data['ementa_text'][i]:\n",
    "            txt = data['ementa_text'][i].lower()\n",
    "            find_art = re.findall('art\\.\\s*\\d+', txt)\n",
    "            if len(find_art) == 0:\n",
    "                dicionario.update({i: '0'})\n",
    "            else:\n",
    "                dicionario.update({i: find_art})\n",
    "        else:\n",
    "            dicionario.update({i: '0'})\n",
    "    return dicionario     "
   ]
  },
  {
   "cell_type": "markdown",
   "metadata": {},
   "source": [
    "### Transformação do Dicionario em DataFrame"
   ]
  },
  {
   "cell_type": "code",
   "execution_count": 288,
   "metadata": {},
   "outputs": [
    {
     "data": {
      "text/html": [
       "<div>\n",
       "<style scoped>\n",
       "    .dataframe tbody tr th:only-of-type {\n",
       "        vertical-align: middle;\n",
       "    }\n",
       "\n",
       "    .dataframe tbody tr th {\n",
       "        vertical-align: top;\n",
       "    }\n",
       "\n",
       "    .dataframe thead tr th {\n",
       "        text-align: left;\n",
       "    }\n",
       "</style>\n",
       "<table border=\"1\" class=\"dataframe\">\n",
       "  <thead>\n",
       "    <tr>\n",
       "      <th></th>\n",
       "      <th>Lista de artigos</th>\n",
       "    </tr>\n",
       "  </thead>\n",
       "  <tbody>\n",
       "    <tr>\n",
       "      <th>0</th>\n",
       "      <td>art. 1 ; art. 487</td>\n",
       "    </tr>\n",
       "    <tr>\n",
       "      <th>1</th>\n",
       "      <td>art. 157</td>\n",
       "    </tr>\n",
       "    <tr>\n",
       "      <th>2</th>\n",
       "      <td>art. 3</td>\n",
       "    </tr>\n",
       "    <tr>\n",
       "      <th>3</th>\n",
       "      <td>0</td>\n",
       "    </tr>\n",
       "    <tr>\n",
       "      <th>4</th>\n",
       "      <td>art. 942 ; art. 85 ; art. 98</td>\n",
       "    </tr>\n",
       "    <tr>\n",
       "      <th>5</th>\n",
       "      <td>0</td>\n",
       "    </tr>\n",
       "    <tr>\n",
       "      <th>6</th>\n",
       "      <td>art. 4</td>\n",
       "    </tr>\n",
       "    <tr>\n",
       "      <th>7</th>\n",
       "      <td>0</td>\n",
       "    </tr>\n",
       "    <tr>\n",
       "      <th>8</th>\n",
       "      <td>art. 487</td>\n",
       "    </tr>\n",
       "    <tr>\n",
       "      <th>9</th>\n",
       "      <td>0</td>\n",
       "    </tr>\n",
       "  </tbody>\n",
       "</table>\n",
       "</div>"
      ],
      "text/plain": [
       "               Lista de artigos\n",
       "0             art. 1 ; art. 487\n",
       "1                      art. 157\n",
       "2                        art. 3\n",
       "3                             0\n",
       "4  art. 942 ; art. 85 ; art. 98\n",
       "5                             0\n",
       "6                        art. 4\n",
       "7                             0\n",
       "8                      art. 487\n",
       "9                             0"
      ]
     },
     "execution_count": 288,
     "metadata": {},
     "output_type": "execute_result"
    }
   ],
   "source": [
    "dicionario = extrai_art_numero(data)\n",
    "dictToList = [' ; '.join(dicionario[i]) for i in dicionario]\n",
    "newData = pd.DataFrame(data = dictToList, columns = [['Lista de artigos']])\n",
    "newData.head(10)"
   ]
  },
  {
   "cell_type": "markdown",
   "metadata": {},
   "source": [
    "### removendo dados faltantes"
   ]
  },
  {
   "cell_type": "code",
   "execution_count": 289,
   "metadata": {},
   "outputs": [
    {
     "data": {
      "text/html": [
       "<div>\n",
       "<style scoped>\n",
       "    .dataframe tbody tr th:only-of-type {\n",
       "        vertical-align: middle;\n",
       "    }\n",
       "\n",
       "    .dataframe tbody tr th {\n",
       "        vertical-align: top;\n",
       "    }\n",
       "\n",
       "    .dataframe thead tr th {\n",
       "        text-align: left;\n",
       "    }\n",
       "</style>\n",
       "<table border=\"1\" class=\"dataframe\">\n",
       "  <thead>\n",
       "    <tr>\n",
       "      <th></th>\n",
       "      <th>Lista de artigos</th>\n",
       "    </tr>\n",
       "  </thead>\n",
       "  <tbody>\n",
       "    <tr>\n",
       "      <th>0</th>\n",
       "      <td>art. 1 ; art. 487</td>\n",
       "    </tr>\n",
       "    <tr>\n",
       "      <th>1</th>\n",
       "      <td>art. 157</td>\n",
       "    </tr>\n",
       "    <tr>\n",
       "      <th>2</th>\n",
       "      <td>art. 3</td>\n",
       "    </tr>\n",
       "    <tr>\n",
       "      <th>4</th>\n",
       "      <td>art. 942 ; art. 85 ; art. 98</td>\n",
       "    </tr>\n",
       "    <tr>\n",
       "      <th>6</th>\n",
       "      <td>art. 4</td>\n",
       "    </tr>\n",
       "    <tr>\n",
       "      <th>8</th>\n",
       "      <td>art. 487</td>\n",
       "    </tr>\n",
       "    <tr>\n",
       "      <th>14</th>\n",
       "      <td>art. 477</td>\n",
       "    </tr>\n",
       "    <tr>\n",
       "      <th>15</th>\n",
       "      <td>art. 659</td>\n",
       "    </tr>\n",
       "    <tr>\n",
       "      <th>18</th>\n",
       "      <td>art. 300</td>\n",
       "    </tr>\n",
       "    <tr>\n",
       "      <th>24</th>\n",
       "      <td>art. 300 ; art. 300</td>\n",
       "    </tr>\n",
       "  </tbody>\n",
       "</table>\n",
       "</div>"
      ],
      "text/plain": [
       "                Lista de artigos\n",
       "0              art. 1 ; art. 487\n",
       "1                       art. 157\n",
       "2                         art. 3\n",
       "4   art. 942 ; art. 85 ; art. 98\n",
       "6                         art. 4\n",
       "8                       art. 487\n",
       "14                      art. 477\n",
       "15                      art. 659\n",
       "18                      art. 300\n",
       "24           art. 300 ; art. 300"
      ]
     },
     "execution_count": 289,
     "metadata": {},
     "output_type": "execute_result"
    }
   ],
   "source": [
    "newDataComArt = newData[newData['Lista de artigos'] != '0'].dropna()\n",
    "newDataComArt.head(10)"
   ]
  },
  {
   "cell_type": "code",
   "execution_count": 207,
   "metadata": {},
   "outputs": [
    {
     "name": "stdout",
     "output_type": "stream",
     "text": [
      "<class 'pandas.core.frame.DataFrame'>\n",
      "Int64Index: 3908 entries, 0 to 9643\n",
      "Data columns (total 1 columns):\n",
      "(Lista de artigos,)    3908 non-null object\n",
      "dtypes: object(1)\n",
      "memory usage: 61.1+ KB\n"
     ]
    }
   ],
   "source": [
    "newDataComArt.info()\n"
   ]
  },
  {
   "cell_type": "markdown",
   "metadata": {},
   "source": [
    "### 3908 dados contendo pelo menos um artigo"
   ]
  },
  {
   "cell_type": "markdown",
   "metadata": {},
   "source": [
    "## Comparando texto com resposta"
   ]
  },
  {
   "cell_type": "code",
   "execution_count": 283,
   "metadata": {},
   "outputs": [
    {
     "name": "stdout",
     "output_type": "stream",
     "text": [
      "Texto:\n",
      " penal. processo penal. tráfico de drogas. habeas corpus. prisão preventiva. alegações de ausência dos pressupostos da prisão preventiva e carência na fundamentação da decisão judicial segregatória. matéria analisada e decidida nos autos do habeas corpus nº 0801183-15.2018.8.02.0000. reiteração de fundamentação jurídica veiculada em impetração anterior. falta de competência desta corte para processar a julgar a ação. não conhecimento da presente impetração. decisão unânime. \n",
      "\n",
      "Artigos extraídos:\n",
      "0\n"
     ]
    }
   ],
   "source": [
    "pos = 30 # Alterar aqui\n",
    "\n",
    "print('Texto:\\n {} \\n\\nArtigos extraídos:\\n{}'.format(data['ementa_text'][pos].lower(), newData['Lista de artigos'].iloc[pos][0]))"
   ]
  },
  {
   "cell_type": "markdown",
   "metadata": {},
   "source": [
    "## Observações adicionais(pos 0 - 30)\n",
    "* Há dados com o tipo None\n",
    "* Na posição 26, 29 possuem artigos combinados(arts. x e y)\n",
    "* Na posição 1, 20, 31 há súmulas ao invés de artigo\n",
    "* Na posição 24 há repetição de artigo(fácil de tratar)"
   ]
  },
  {
   "cell_type": "markdown",
   "metadata": {},
   "source": [
    "## Futuras implementações\n",
    "* Resolver problemas do artigos compostos\n",
    "* Extrair os artigos com os paragrafos\n",
    "* Remover as stopwords"
   ]
  },
  {
   "cell_type": "markdown",
   "metadata": {},
   "source": []
  }
 ],
 "metadata": {
  "kernelspec": {
   "display_name": "Python 3",
   "language": "python",
   "name": "python3"
  },
  "language_info": {
   "codemirror_mode": {
    "name": "ipython",
    "version": 3
   },
   "file_extension": ".py",
   "mimetype": "text/x-python",
   "name": "python",
   "nbconvert_exporter": "python",
   "pygments_lexer": "ipython3",
   "version": "3.6.8"
  }
 },
 "nbformat": 4,
 "nbformat_minor": 2
}
